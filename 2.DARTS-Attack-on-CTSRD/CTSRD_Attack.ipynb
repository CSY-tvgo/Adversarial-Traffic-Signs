{
 "cells": [
  {
   "cell_type": "markdown",
   "metadata": {},
   "source": [
    "# Adversarial attack on CTSRD dataset  \n",
    "\n",
    "This notebook is modified for attacking on Chinese traffic signs in CTSRD dataset.  \n",
    "It cites a lot of code from the repository of [**[DARTS: Deceiving Autonomous Cars with Toxic Signs\n",
    "]**](https://github.com/inspire-group/advml-traffic-sign).\n",
    "\n",
    "\n",
    "---"
   ]
  },
  {
   "cell_type": "code",
   "execution_count": null,
   "metadata": {},
   "outputs": [],
   "source": [
    "import os\n",
    "%matplotlib inline\n",
    "\n",
    "%reload_ext autoreload\n",
    "%autoreload 2\n",
    "\n",
    "import pickle\n",
    "from parameters import *\n",
    "from lib.utils import *\n",
    "from lib.attacks import *\n",
    "from lib.detector_utils import *\n",
    "from lib.keras_utils import *\n",
    "from lib.RandomTransform import *\n",
    "from lib.OptCarlini import *\n",
    "from lib.OptTransform import *\n",
    "from lib.OptProjTran import *\n",
    "from tensorflow import keras\n",
    "import pandas as pd\n",
    "import re\n",
    "import time\n",
    "\n",
    "plt.rcParams['font.sans-serif']=['SimSun'] #用来正常显示中文标签\n",
    "plt.rcParams['axes.unicode_minus']=False #用来正常显示负号\n",
    "\n",
    "print(tf.__version__)"
   ]
  },
  {
   "cell_type": "markdown",
   "metadata": {},
   "source": [
    "Load model and class names."
   ]
  },
  {
   "cell_type": "code",
   "execution_count": null,
   "metadata": {
    "tags": [
     "outputPrepend"
    ]
   },
   "outputs": [],
   "source": [
    "model = tf.keras.models.load_model('../1.CTSRD_Classification/trainedModels/CTSRD_ResNet101_20200422.h5')\n",
    "model.summary()"
   ]
  },
  {
   "cell_type": "code",
   "execution_count": null,
   "metadata": {},
   "outputs": [],
   "source": [
    "names = {'停车检查': 0, '停车让行': 1, '减速让行': 2, '右侧行驶': 3, '右转': 4,\n",
    "         '左侧行驶': 5, '左转': 6, '左转和右转': 7, '机动车道': 8, '注意上坡': 9,\n",
    "         '注意下坡': 10, '注意事故易发路段': 11, '注意人行横道': 12, '注意信号灯': 13, '注意危险': 14,\n",
    "         '注意反向弯路': 15, '注意向右T型交叉': 16, '注意向右急转弯': 17, '注意向左T型交叉': 18, '注意向左急转弯': 19,\n",
    "         '注意学校': 20, '注意左右绕行': 21, '注意慢行': 22, '注意施工': 23, '注意无人看守铁道路口': 24,\n",
    "         '注意有人看守铁道路口': 25, '注意村镇': 26, '注意连续弯道': 27, '注意非机动车': 28, '环岛': 29,\n",
    "         '直行': 30, '直行和右转': 31, '禁止右转': 32, '禁止左转': 33, '禁止左转和右转': 34,\n",
    "         '禁止机动车': 35, '禁止直行': 36, '禁止直行和右转': 37, '禁止直行和左转': 38, '禁止调头': 39,\n",
    "         '禁止超车': 40, '禁止车辆临时或长时停放': 41, '禁止通行': 42, '禁止驶入': 43, '禁止鸣笛': 44,\n",
    "         '解除40km/h限速': 45, '解除50km/h限速': 46, '调头': 47, '限速15km/h': 48, '限速30km/h': 49,\n",
    "         '限速40km/h': 50, '限速50km/h': 51, '限速5km/h': 52, '限速60km/h': 53, '限速70km/h': 54,\n",
    "         '限速80km/h': 55, '非机动车道': 56, '鸣笛': 57}\n",
    "\n",
    "\n",
    "def getname(index):\n",
    "    return np.array(list(names))[index]"
   ]
  },
  {
   "cell_type": "code",
   "execution_count": null,
   "metadata": {},
   "outputs": [],
   "source": [
    "# 检查哪些类别可识别正确，被攻击者和目标均可被正确识别才能执行正常的攻击\n",
    "df = pd.read_csv('./CTSRD/可以攻击的.csv', encoding='gbk')\n",
    "df"
   ]
  },
  {
   "cell_type": "markdown",
   "metadata": {},
   "source": [
    "## Run attack on one image"
   ]
  },
  {
   "cell_type": "markdown",
   "metadata": {},
   "source": [
    "Load samples "
   ]
  },
  {
   "cell_type": "code",
   "execution_count": null,
   "metadata": {},
   "outputs": [],
   "source": [
    "SAMPLE_IMG_PATH = './CTSRD/images/32.jfif'\n",
    "SAMPLE_LABEL = '32'\n",
    "\n",
    "# Load sample images and labels. \n",
    "x_smp, x_smp_full, y_smp, mask, mask_full = load_sample(SAMPLE_IMG_PATH, SAMPLE_LABEL)\n",
    "\n",
    "plt.figure(figsize=(16,8))\n",
    "plt.subplot(1,4,1)\n",
    "plt.imshow(x_smp)\n",
    "plt.title(\"(a)\", fontsize=20)\n",
    "plt.subplot(1,4,2)\n",
    "plt.imshow(x_smp_full)\n",
    "plt.title(\"(b)\", fontsize=20)\n",
    "plt.subplot(1,4,3)\n",
    "plt.imshow(mask)\n",
    "plt.title(\"(c)\", fontsize=20)\n",
    "plt.subplot(1,4,4)\n",
    "plt.imshow(mask_full)\n",
    "plt.title(\"(d)\", fontsize=20)"
   ]
  },
  {
   "cell_type": "markdown",
   "metadata": {},
   "source": [
    "Specify target class, and check the predict result."
   ]
  },
  {
   "cell_type": "code",
   "execution_count": null,
   "metadata": {
    "scrolled": true
   },
   "outputs": [],
   "source": [
    "y_target = 33\n",
    "y_target = keras.utils.to_categorical(y_target, NUM_LABELS)\n",
    "\n",
    "predResult = model.predict(x_smp.reshape(1, 112, 112, 3))\n",
    "print(\"预测结果：\" + str(np.argmax(predResult)) + '-' + getname(np.argmax(predResult)) + \" 置信度：\" + str(np.max(predResult)))\n",
    "print(\"标签标注：\" + str(np.argmax(y_smp)) + '-' + getname(np.argmax(y_smp)))\n",
    "print(\"攻击目标：\" + str(np.argmax(y_target)) + '-' + getname(np.argmax(y_target)))\n",
    "    \n",
    "plt.imshow(x_smp)\n",
    "plt.show()"
   ]
  },
  {
   "cell_type": "markdown",
   "metadata": {},
   "source": [
    "What random transformation and enhancement look like"
   ]
  },
  {
   "cell_type": "code",
   "execution_count": null,
   "metadata": {},
   "outputs": [],
   "source": [
    "plt.figure(figsize=(13,5))\n",
    "\n",
    "seed = 1111\n",
    "rnd_transform = RandomTransform(seed=seed, p=1.0, intensity=0.3)\n",
    "\n",
    "for i in range(10):\n",
    "    tmp = rnd_transform.transform(x_smp_full)\n",
    "    tmp = random_brightness(tmp, delta=0.3)\n",
    "    im_t = random_resize(tmp)\n",
    "    plt.subplot(2,5,i+1)\n",
    "    plt.imshow(im_t)\n",
    "    plt.axis(\"off\")"
   ]
  },
  {
   "cell_type": "markdown",
   "metadata": {},
   "source": [
    "Iterative method with transformation\n",
    "\n",
    "`iter_transform` is a gradient descent method that incorporates masks and random transformation of the input sample."
   ]
  },
  {
   "cell_type": "code",
   "execution_count": null,
   "metadata": {
    "scrolled": true
   },
   "outputs": [],
   "source": [
    "output, checkpoint, loss, label_score, target_score = iter_transform(\n",
    "        model, x_smp, y_smp, y_target, norm=\"inf\", n_step=1000,  # 原来是200\n",
    "        step_size=0.001, target=True, mask=mask, batch_size=128, early_stop=True)"
   ]
  },
  {
   "cell_type": "markdown",
   "metadata": {},
   "source": [
    "Preview the result."
   ]
  },
  {
   "cell_type": "code",
   "execution_count": null,
   "metadata": {
    "scrolled": false
   },
   "outputs": [],
   "source": [
    "plt.figure(figsize=(15,8))\n",
    "plt.subplot(131)\n",
    "plt.imshow(x_smp)\n",
    "plt.subplot(132)\n",
    "plt.imshow(output)\n",
    "plt.subplot(133)\n",
    "add = x_smp*0.5 + output*0.5\n",
    "plt.imshow(add)\n",
    "a = model.predict(x_smp.reshape(1, 112, 112, 3))\n",
    "b = model.predict(output.reshape(1, 112, 112, 3))\n",
    "c = model.predict(add.reshape(1, 112, 112, 3))\n",
    "print(a)\n",
    "print(b)\n",
    "print(c)\n",
    "print(np.argmax(a),getname(np.argmax(a)))\n",
    "print(np.argmax(b),getname(np.argmax(b)))\n",
    "print(np.argmax(c),getname(np.argmax(c)))"
   ]
  },
  {
   "cell_type": "markdown",
   "metadata": {},
   "source": [
    "Save the result."
   ]
  },
  {
   "cell_type": "code",
   "execution_count": null,
   "metadata": {},
   "outputs": [],
   "source": [
    "# Save results\n",
    "thisdir = './forpaper/SingleAttack/'\n",
    "\n",
    "rawlabel = str(np.argmax(y_smp)) + '-' + getname(np.argmax(y_smp))\n",
    "targetlabel = str(np.argmax(y_target)) + '-' + getname(np.argmax(y_target))\n",
    "timestamp = time.strftime(\"%Y%m%d_%H%M%S\", time.localtime())\n",
    "filename = '%s→%s_%s.jpg' % (rawlabel, targetlabel, timestamp)\n",
    "    \n",
    "adv = cv2.resize(output.copy(), (x_smp_full.shape[1], x_smp_full.shape[0]), cv2.INTER_CUBIC)\n",
    "mix = adv * 0.5 + x_smp_full * 0.5\n",
    "mix = (mix * 255).astype('uint8')\n",
    "mix = cv2.cvtColor(mix, cv2.COLOR_BGR2RGB)\n",
    "cv2.imencode('.jpg', mix)[1].tofile(thisdir + '/result_' + filename) \n",
    "adv = (adv * 255).astype('uint8')\n",
    "adv = cv2.cvtColor(adv, cv2.COLOR_BGR2RGB)\n",
    "cv2.imencode('.jpg', adv)[1].tofile(thisdir + '/noise_' + filename) "
   ]
  },
  {
   "cell_type": "markdown",
   "metadata": {},
   "source": [
    "## Run Attacks for more than one images"
   ]
  },
  {
   "cell_type": "markdown",
   "metadata": {},
   "source": [
    "Load samples, specify target class, and check the settings."
   ]
  },
  {
   "cell_type": "code",
   "execution_count": null,
   "metadata": {},
   "outputs": [],
   "source": [
    "# Load sample images and labels. \n",
    "SAMPLE_IMG_PATH = './forpaper/RawImgs/'\n",
    "SAMPLE_LABEL = './forpaper/RawImgs/labels.txt'\n",
    "x_smp, x_smp_full, y_smp, mask, mask_full = load_samples(SAMPLE_IMG_PATH, SAMPLE_LABEL)\n",
    "\n",
    "# Target classes are chosen at random\n",
    "y_target = np.array([32, 43, 4, 33, 32, 8, 20])\n",
    "y_target = keras.utils.to_categorical(y_target, NUM_LABELS)\n",
    "\n",
    "# Check predict result\n",
    "for i in range(len(x_smp)):\n",
    "    pred = model.predict(x_smp[i].reshape(1, 112, 112, 3))\n",
    "    print(\"识别结果：%d-%s Score:%.2f%%\" % \n",
    "          (np.argmax(pred), getname(np.argmax(pred)), np.max(pred)*100))\n",
    "    print(\"原始标签：%d-%s Score:%.2f%%\" % \n",
    "          (np.argmax(y_smp[i]), getname(np.argmax(y_smp[i])), pred[0,np.argmax(y_smp[i])]*100))\n",
    "    print(\"攻击目标：%d-%s Score:%.2f%%\" % \n",
    "          (np.argmax(y_target[i]), getname(np.argmax(y_target[i])), pred[0,np.argmax(y_target[i])]*100))\n",
    "    if np.argmax(y_smp[i]) == np.argmax(pred):\n",
    "        print(\"↓↓↓↓↓↓↓可攻击↓↓↓↓↓↓↓\")\n",
    "    else:\n",
    "        print(\"↓↓↓↓↓↓不建议攻击↓↓↓↓↓↓（数据集内无原图标签除外）\")\n",
    "    \n",
    "    plt.imshow(x_smp[i])\n",
    "    plt.show()"
   ]
  },
  {
   "cell_type": "markdown",
   "metadata": {},
   "source": [
    "Begin attack."
   ]
  },
  {
   "cell_type": "code",
   "execution_count": null,
   "metadata": {
    "scrolled": true
   },
   "outputs": [],
   "source": [
    "# Declare lists to store outputs and some other factors\n",
    "outputs = []\n",
    "checkpoints = []\n",
    "losses = []\n",
    "label_scores = []\n",
    "target_scores = []"
   ]
  },
  {
   "cell_type": "code",
   "execution_count": null,
   "metadata": {},
   "outputs": [],
   "source": [
    "for i in range(len(x_smp)):\n",
    "    output, checkpoint, loss, label_score, target_score = iter_transform(\n",
    "        model, x_smp[i], y_smp[i], y_target[i], norm=\"inf\", n_step=1000,  # 原来是200\n",
    "        step_size=0.001, target=True, mask=mask[i], batch_size=128, early_stop=True)\n",
    "    \n",
    "    outputs.append(output)\n",
    "    checkpoints.append(checkpoint)\n",
    "    losses.append(loss)\n",
    "    label_scores.append(label_score)\n",
    "    target_scores.append(target_score)"
   ]
  },
  {
   "cell_type": "markdown",
   "metadata": {},
   "source": [
    "Preview results"
   ]
  },
  {
   "cell_type": "code",
   "execution_count": null,
   "metadata": {
    "scrolled": true
   },
   "outputs": [],
   "source": [
    "# Preview results\n",
    "\n",
    "filenames = []\n",
    "for i in range(len(x_smp)):\n",
    "    rawlabel = str(np.argmax(y_smp[i])) + '-' + getname(np.argmax(y_smp[i]))\n",
    "    targetlabel = str(np.argmax(y_target[i])) + '-' + getname(np.argmax(y_target[i]))\n",
    "    timestamp = time.strftime(\"%Y%m%d_%H%M%S\", time.localtime())\n",
    "    filename = '%s→%s_%s.jpg' % (rawlabel, targetlabel, timestamp)\n",
    "    print(filename)\n",
    "    filenames.append(filename)\n",
    "    \n",
    "    mix = outputs[i] * 0.5 + x_smp[i] * 0.5\n",
    "    \n",
    "    predResult_raw = model.predict(x_smp[i].reshape(1, 112, 112, 3))\n",
    "    predResult_noise = model.predict(outputs[i].reshape(1, 112, 112, 3))\n",
    "    predResult_mix = model.predict(mix.reshape(1, 112, 112, 3))\n",
    "\n",
    "    print(\"%.2f%%\\t%.2f%%\"%(predResult_raw[0, np.argmax(y_smp[i])], predResult_raw[0, np.argmax(y_target[i])]))\n",
    "    print(\"%.2f%%\\t%.2f%%\"%(predResult_noise[0, np.argmax(y_smp[i])], predResult_noise[0, np.argmax(y_target[i])]))\n",
    "    print(\"%.2f%%\\t%.2f%%\"%(predResult_mix[0, np.argmax(y_smp[i])], predResult_mix[0, np.argmax(y_target[i])]))\n",
    "    \n",
    "    plt.figure(figsize=(15,6))\n",
    "    plt.subplot(1,3,1)\n",
    "    plt.imshow(x_smp[i])\n",
    "    plt.subplot(1,3,2)\n",
    "    plt.imshow(outputs[i])\n",
    "    plt.subplot(1,3,3)\n",
    "    plt.imshow(mix)\n",
    "    plt.show()"
   ]
  },
  {
   "cell_type": "markdown",
   "metadata": {},
   "source": [
    "Save results"
   ]
  },
  {
   "cell_type": "code",
   "execution_count": null,
   "metadata": {},
   "outputs": [],
   "source": [
    "# Save results\n",
    "thisdir = time.strftime(\"%Y%m%d_%H%M%S\", time.localtime())\n",
    "os.mkdir('./forpaper/' + thisdir)\n",
    "\n",
    "for i in range(len(filenames)):\n",
    "    adv = cv2.resize(outputs[i].copy(), (x_smp_full[i].shape[1], x_smp_full[i].shape[0]), cv2.INTER_CUBIC)\n",
    "    mix = adv * 0.5 + x_smp_full[i] * 0.5\n",
    "    mix = (mix * 255).astype('uint8')\n",
    "    mix = cv2.cvtColor(mix, cv2.COLOR_BGR2RGB)\n",
    "    cv2.imencode('.jpg', mix)[1].tofile('./forpaper/' + thisdir + '/result_' + filenames[i]) \n",
    "    adv = (adv * 255).astype('uint8')\n",
    "    adv = cv2.cvtColor(adv, cv2.COLOR_BGR2RGB)\n",
    "    cv2.imencode('.jpg', adv)[1].tofile('./forpaper/' + thisdir + '/noise_' + filenames[i]) "
   ]
  },
  {
   "cell_type": "markdown",
   "metadata": {},
   "source": [
    "Check the process."
   ]
  },
  {
   "cell_type": "code",
   "execution_count": null,
   "metadata": {},
   "outputs": [],
   "source": [
    "filenames"
   ]
  },
  {
   "cell_type": "code",
   "execution_count": null,
   "metadata": {},
   "outputs": [],
   "source": [
    "# set the image you want to observe\n",
    "img_index = 6\n",
    "\n",
    "# draw the process of image\n",
    "plt.figure(figsize=(16,7))\n",
    "for i in range(10):\n",
    "    plt.subplot(2,5,i+1)\n",
    "    ckp_num = checkpoints[img_index].shape[0]\n",
    "    times = int(ckp_num/10)\n",
    "    mix = checkpoints[img_index][(i+1)*times-1] * 0.5 + x_smp[img_index] * 0.5\n",
    "    pred = model.predict(mix.reshape(1, 112, 112, 3))\n",
    "    score0, score1 = pred[0, np.argmax(y_smp[img_index])]*times*10, pred[0, np.argmax(y_target[img_index])]*100\n",
    "    plt.imshow(mix)\n",
    "    plt.title(\"%d次迭代后\\n原:%.2f%% 目标:%.2f%%\"%((i+1)*times*10, score0, score1), fontsize=15)\n",
    "    plt.title(\"%d次迭代后\\n目标:%.2f%%\"%((i+1)*times*10, score1), fontsize=15)\n",
    "    plt.axis('off')\n",
    "plt.savefig('./forpaper/plots/Process_' + filenames[img_index].replace('.jpg', '.png'))\n",
    "plt.show()\n",
    "\n",
    "\n",
    "# draw the plot of scores\n",
    "plt.figure(figsize=(12,8))\n",
    "r_scores = []\n",
    "t_scores = []\n",
    "pred = model.predict(x_smp[img_index].reshape(1, 112, 112, 3))\n",
    "score0, score1 = pred[0, np.argmax(y_smp[img_index])], pred[0, np.argmax(y_target[img_index])]\n",
    "r_scores.append(score0)\n",
    "t_scores.append(score1)\n",
    "\n",
    "ckp_num = checkpoints[img_index].shape[0]\n",
    "for i in range(ckp_num):\n",
    "    mix = checkpoints[img_index][i] * 0.5 + x_smp[img_index] * 0.5\n",
    "    pred = model.predict(mix.reshape(1, 112, 112, 3))\n",
    "    score0, score1 = pred[0, np.argmax(y_smp[img_index])], pred[0, np.argmax(y_target[img_index])]\n",
    "    r_scores.append(score0)\n",
    "    t_scores.append(score1)\n",
    "\n",
    "x_range = range(0, ckp_num*10+10, 10)\n",
    "plt.plot(x_range, r_scores, label='原标签', linewidth=5, color='deepskyblue',\n",
    "         marker='.', markerfacecolor='royalblue', markersize=15)\n",
    "plt.plot(x_range, t_scores, label='攻击目标', linewidth=5, color='tomato',\n",
    "        marker='.', markerfacecolor='firebrick',markersize=15)\n",
    "plt.xlabel('迭代次数', fontsize=15)\n",
    "plt.ylabel('置信度', fontsize=15)\n",
    "plt.legend(fontsize=15)\n",
    "plt.savefig('./forpaper/plots/Scores_' + filenames[img_index].replace('.jpg', '.png'))\n",
    "plt.show()\n"
   ]
  },
  {
   "cell_type": "markdown",
   "metadata": {},
   "source": [
    "## Evaluate"
   ]
  },
  {
   "cell_type": "code",
   "execution_count": null,
   "metadata": {},
   "outputs": [],
   "source": [
    "result_path = './forpaper/20200427_170330/'\n",
    "advnames = os.listdir(result_path)\n",
    "\n",
    "for i in range(len(advnames)):\n",
    "    raw_class, target_class = re.findall(r'\\d+',advnames[i])[0:2]\n",
    "    raw_class, target_class = int(raw_class), int(target_class)\n",
    "    advimg = cv2.imdecode(np.fromfile(os.path.join(result_path, advnames[i]),dtype=np.uint8),-1)\n",
    "    advimg = (advimg / 255.).astype(np.float32)\n",
    "    advimg_resize = cv2.resize(advimg, (112, 112))\n",
    "    advimg_resize = cv2.cvtColor(advimg_resize, cv2.COLOR_BGR2RGB)\n",
    "    advimg_resize = advimg_resize.reshape(1, 112, 112, 3)\n",
    "    pred = model.predict(advimg_resize)   \n",
    "    print(\"目视标志：%d-%s Score:%.2f%% \\n攻击目标：%d-%s Score:%.2f%%\" % \n",
    "          (raw_class, getname(raw_class), pred[0,raw_class]*100,\n",
    "           target_class, getname(target_class), pred[0,target_class]*100))\n",
    "    print(\"识别结果：%d-%s Score:%.2f%%\" % (np.argmax(pred), getname(np.argmax(pred)), np.max(pred)*100))\n",
    "    if target_class == np.argmax(pred):\n",
    "        print(\"↓↓↓↓↓↓有效的攻击↓↓↓↓↓↓\")\n",
    "    else:\n",
    "        print(\"↓↓↓↓↓效果欠佳的攻击↓↓↓↓↓\")\n",
    "        \n",
    "    plt.imshow(cv2.cvtColor(advimg, cv2.COLOR_BGR2RGB))\n",
    "    plt.show()"
   ]
  },
  {
   "cell_type": "code",
   "execution_count": null,
   "metadata": {},
   "outputs": [],
   "source": []
  }
 ],
 "metadata": {
  "kernelspec": {
   "display_name": "Python 3.6.10 64-bit ('tfconda': conda)",
   "language": "python",
   "name": "python361064bittfcondaconda4dc31753d32b4aab95820deed8095bd0"
  },
  "language_info": {
   "codemirror_mode": {
    "name": "ipython",
    "version": 3
   },
   "file_extension": ".py",
   "mimetype": "text/x-python",
   "name": "python",
   "nbconvert_exporter": "python",
   "pygments_lexer": "ipython3",
   "version": "3.6.10"
  }
 },
 "nbformat": 4,
 "nbformat_minor": 2
}
